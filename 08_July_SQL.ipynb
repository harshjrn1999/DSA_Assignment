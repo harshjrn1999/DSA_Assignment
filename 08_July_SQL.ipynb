{
 "cells": [
  {
   "cell_type": "code",
   "execution_count": 1,
   "id": "17547d2e",
   "metadata": {},
   "outputs": [
    {
     "ename": "SyntaxError",
     "evalue": "invalid syntax (1244742136.py, line 1)",
     "output_type": "error",
     "traceback": [
      "\u001b[1;36m  Cell \u001b[1;32mIn[1], line 1\u001b[1;36m\u001b[0m\n\u001b[1;33m    SELECT  CONCAT(first_name,' ', last_name) 'Employee Name'\u001b[0m\n\u001b[1;37m            ^\u001b[0m\n\u001b[1;31mSyntaxError\u001b[0m\u001b[1;31m:\u001b[0m invalid syntax\n"
     ]
    }
   ],
   "source": [
    "SELECT  CONCAT(first_name,' ', last_name) 'Employee Name',email_id \n",
    "     FROM employees;"
   ]
  },
  {
   "cell_type": "code",
   "execution_count": null,
   "id": "3aefc150",
   "metadata": {},
   "outputs": [],
   "source": [
    "SELECT * \n",
    "FROM customer \n",
    "WHERE city = 'New York' OR NOT grade>100;"
   ]
  },
  {
   "cell_type": "code",
   "execution_count": null,
   "id": "9d94271b",
   "metadata": {},
   "outputs": [],
   "source": [
    "SELECT DEPT_ID, MAX(SALARY) FROM department GROUP BY DEPT_ID;"
   ]
  },
  {
   "cell_type": "code",
   "execution_count": null,
   "id": "b03603d0",
   "metadata": {},
   "outputs": [],
   "source": [
    "SELECT\n",
    "    phone_num,\n",
    "    CONCAT(\n",
    "        '(',\n",
    "        SUBSTR(phone_num, 1, 3),\n",
    "        ') ',\n",
    "        SUBSTR(phone_num, 4, 3),\n",
    "        '-',\n",
    "        SUBSTR(phone_num, 7)\n",
    "    ) AS num_formatted\n",
    "FROM\n",
    "    EmpDetails"
   ]
  },
  {
   "cell_type": "code",
   "execution_count": null,
   "id": "b586aafa",
   "metadata": {},
   "outputs": [],
   "source": [
    " SELECT customers.name, customers.email, SUM(orders.price) AS \"total\"\n",
    " FROM customers\n",
    " LEFT OUTER JOIN orders\n",
    " ON customers.id = orders.customer_id\n",
    " GROUP BY customers.id\n",
    " ORDER BY orders.price DESC;\n"
   ]
  },
  {
   "cell_type": "code",
   "execution_count": null,
   "id": "84973cc4",
   "metadata": {},
   "outputs": [],
   "source": [
    "SELECT c.customerid,\n",
    "       Sum(p.price)\n",
    "FROM   customers AS c\n",
    "       INNER JOIN orders AS o\n",
    "               ON o.customerid = c.customerid\n",
    "       INNER JOIN orderdetails AS od\n",
    "               ON od.orderid = o.orderid\n",
    "       INNER JOIN products AS p\n",
    "               ON p.productid = od.productid\n",
    "GROUP  BY c.customerid\n",
    "ORDER  BY Sum(p.price) DESC\n",
    "LIMIT  5 "
   ]
  }
 ],
 "metadata": {
  "kernelspec": {
   "display_name": "Python 3 (ipykernel)",
   "language": "python",
   "name": "python3"
  },
  "language_info": {
   "codemirror_mode": {
    "name": "ipython",
    "version": 3
   },
   "file_extension": ".py",
   "mimetype": "text/x-python",
   "name": "python",
   "nbconvert_exporter": "python",
   "pygments_lexer": "ipython3",
   "version": "3.9.6"
  }
 },
 "nbformat": 4,
 "nbformat_minor": 5
}
