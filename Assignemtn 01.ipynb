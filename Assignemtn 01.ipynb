{
 "cells": [
  {
   "cell_type": "code",
   "execution_count": 1,
   "id": "7099b089",
   "metadata": {},
   "outputs": [
    {
     "name": "stdout",
     "output_type": "stream",
     "text": [
      "True\n"
     ]
    }
   ],
   "source": [
    "def anagramCheck2(str1,str2):  \n",
    "     \n",
    "    list1 = list(str1)  \n",
    "    list2 = list(str2)  \n",
    "    \n",
    "    list1.sort()  \n",
    "    list2.sort()  \n",
    "  \n",
    "    position = 0  \n",
    "    matches = True  \n",
    "  \n",
    "    while position < len(str1) and matches:  \n",
    "        if list1[position]==list2[position]:  \n",
    "            position = position + 1  \n",
    "        else:  \n",
    "            matches = False  \n",
    "  \n",
    "    return matches  \n",
    "  \n",
    "print(anagramCheck2('python','ythonp'))"
   ]
  },
  {
   "cell_type": "code",
   "execution_count": 2,
   "id": "60e5d63f",
   "metadata": {},
   "outputs": [
    {
     "name": "stdout",
     "output_type": "stream",
     "text": [
      "Maximum Value:  5874\n",
      "Minimum Value:  500\n"
     ]
    }
   ],
   "source": [
    "my_dict = {'x':500, 'y':5874, 'z': 560}\n",
    "\n",
    "key_max = max(my_dict.keys(), key=(lambda k: my_dict[k]))\n",
    "key_min = min(my_dict.keys(), key=(lambda k: my_dict[k]))\n",
    "\n",
    "print('Maximum Value: ',my_dict[key_max])\n",
    "print('Minimum Value: ',my_dict[key_min])"
   ]
  },
  {
   "cell_type": "code",
   "execution_count": 3,
   "id": "eb595416",
   "metadata": {},
   "outputs": [
    {
     "name": "stdout",
     "output_type": "stream",
     "text": [
      "3.0\n"
     ]
    }
   ],
   "source": [
    "import statistics\n",
    "numbers = [1, 2, 3, 4, 5]\n",
    "total = 0\n",
    "for num in numbers:\n",
    "    total += num\n",
    "average = total / len(numbers)\n",
    "print(average)"
   ]
  },
  {
   "cell_type": "code",
   "execution_count": 4,
   "id": "3f427972",
   "metadata": {},
   "outputs": [
    {
     "name": "stdout",
     "output_type": "stream",
     "text": [
      "\n",
      "After removing Vowels:  Prpnst\n"
     ]
    }
   ],
   "source": [
    "string = \"PrepInsta\"\n",
    "\n",
    "vowels = ['a', 'e', 'i', 'o', 'u', 'A', 'E', 'I', 'O', 'U']\n",
    "result = \"\"\n",
    "\n",
    "for char in string:\n",
    "    if char not in vowels:\n",
    "        result = result + char\n",
    "\n",
    "print(\"\\nAfter removing Vowels: \", result)"
   ]
  },
  {
   "cell_type": "code",
   "execution_count": 5,
   "id": "4d03fb7d",
   "metadata": {},
   "outputs": [
    {
     "name": "stdout",
     "output_type": "stream",
     "text": [
      "The factorial of 7 is 5040\n"
     ]
    }
   ],
   "source": [
    "\n",
    "def recur_factorial(n):\n",
    "   if n == 1:\n",
    "       return n\n",
    "   else:\n",
    "       return n*recur_factorial(n-1)\n",
    "\n",
    "num = 7\n",
    "\n",
    "if num < 0:\n",
    "   print(\"Sorry, factorial does not exist for negative numbers\")\n",
    "elif num == 0:\n",
    "   print(\"The factorial of 0 is 1\")\n",
    "else:\n",
    "   print(\"The factorial of\", num, \"is\", recur_factorial(num))\n"
   ]
  },
  {
   "cell_type": "code",
   "execution_count": null,
   "id": "847e6be0",
   "metadata": {},
   "outputs": [
    {
     "name": "stdout",
     "output_type": "stream",
     "text": [
      "Enter number of elements:15\n",
      "Enter element:3\n",
      "Enter element:2\n",
      "Enter element:1\n",
      "Enter element:5\n",
      "Enter element:5\n",
      "Enter element:4\n",
      "Enter element:54\n",
      "Enter element:5\n",
      "Enter element:5\n",
      "Enter element:6\n",
      "Enter element:6\n",
      "Enter element:5\n"
     ]
    }
   ],
   "source": [
    "a=[]\n",
    "c=[]\n",
    "n1=int(input(\"Enter number of elements:\"))\n",
    "for i in range(1,n1+1):\n",
    "    b=int(input(\"Enter element:\"))\n",
    "    a.append(b)\n",
    "n2=int(input(\"Enter number of elements:\"))\n",
    "for i in range(1,n2+1):\n",
    "    d=int(input(\"Enter element:\"))\n",
    "    c.append(d)\n",
    "new=a+c\n",
    "new.sort()\n",
    "print(\"Sorted list is:\",new)"
   ]
  },
  {
   "cell_type": "code",
   "execution_count": 6,
   "id": "bc0bc7b3",
   "metadata": {},
   "outputs": [
    {
     "name": "stdout",
     "output_type": "stream",
     "text": [
      "Enter the first number: 12\n",
      "Enter the second number: 25\n",
      "GCD of two number is: \n",
      "1\n"
     ]
    }
   ],
   "source": [
    "def gcd_fun (x, y):  \n",
    "    if (y == 0): # it divide every number  \n",
    "        return x  # return x  \n",
    "    else:  \n",
    "        return gcd_fun (y, x % y)  \n",
    "x =int (input (\"Enter the first number: \"))   \n",
    "y =int (input (\"Enter the second number: \"))  \n",
    "num = gcd_fun(x, y)  \n",
    "print(\"GCD of two number is: \")  \n",
    "print(num)"
   ]
  },
  {
   "cell_type": "code",
   "execution_count": 7,
   "id": "77c8affb",
   "metadata": {},
   "outputs": [
    {
     "name": "stdout",
     "output_type": "stream",
     "text": [
      "The second largest element of the list is: 30\n"
     ]
    }
   ],
   "source": [
    "list_val = [20, 30, 40, 25, 10]  \n",
    "\n",
    "list_val.sort()  \n",
    "\n",
    "print(\"The second largest element of the list is:\", list_val[-2])  "
   ]
  },
  {
   "cell_type": "code",
   "execution_count": 8,
   "id": "96593ff0",
   "metadata": {},
   "outputs": [
    {
     "name": "stdout",
     "output_type": "stream",
     "text": [
      "Enter first string: stu\n",
      "Enter second string: bbbfbf\n",
      "Longest Common Subsequence: "
     ]
    }
   ],
   "source": [
    "def lcs(u, v):\n",
    "    \n",
    "    c = [[-1]*(len(v) + 1) for _ in range(len(u) + 1)]\n",
    " \n",
    "    for i in range(len(u) + 1):\n",
    "        c[i][len(v)] = 0\n",
    "    for j in range(len(v)):\n",
    "        c[len(u)][j] = 0\n",
    " \n",
    "    for i in range(len(u) - 1, -1, -1):\n",
    "        for j in range(len(v) - 1, -1, -1):\n",
    "            if u[i] == v[j]:\n",
    "                c[i][j] = 1 + c[i + 1][j + 1]\n",
    "            else:\n",
    "                c[i][j] = max(c[i + 1][j], c[i][j + 1])\n",
    " \n",
    "    return c\n",
    " \n",
    " \n",
    "def print_lcs(u, v, c):\n",
    "    \n",
    "    i = j = 0\n",
    "    while not (i == len(u) or j == len(v)):\n",
    "        if u[i] == v[j]:\n",
    "            print(u[i], end='')\n",
    "            i += 1\n",
    "            j += 1\n",
    "        elif c[i][j + 1] > c[i + 1][j]:\n",
    "            j += 1\n",
    "        else:\n",
    "            i += 1\n",
    " \n",
    " \n",
    "u = input('Enter first string: ')\n",
    "v = input('Enter second string: ')\n",
    "c = lcs(u, v)\n",
    "print('Longest Common Subsequence: ', end='')\n",
    "print_lcs(u, v, c)"
   ]
  },
  {
   "cell_type": "code",
   "execution_count": null,
   "id": "3353850c",
   "metadata": {},
   "outputs": [],
   "source": []
  }
 ],
 "metadata": {
  "kernelspec": {
   "display_name": "Python 3 (ipykernel)",
   "language": "python",
   "name": "python3"
  },
  "language_info": {
   "codemirror_mode": {
    "name": "ipython",
    "version": 3
   },
   "file_extension": ".py",
   "mimetype": "text/x-python",
   "name": "python",
   "nbconvert_exporter": "python",
   "pygments_lexer": "ipython3",
   "version": "3.9.6"
  }
 },
 "nbformat": 4,
 "nbformat_minor": 5
}
